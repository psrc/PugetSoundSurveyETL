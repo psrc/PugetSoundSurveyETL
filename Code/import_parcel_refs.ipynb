{
 "cells": [
  {
   "cell_type": "code",
   "execution_count": 1,
   "metadata": {},
   "outputs": [],
   "source": [
    "import pandas as pd"
   ]
  },
  {
   "cell_type": "code",
   "execution_count": 2,
   "metadata": {},
   "outputs": [],
   "source": [
    "import pyodbc\n",
    "import urllib\n",
    "import sqlalchemy"
   ]
  },
  {
   "cell_type": "code",
   "execution_count": 3,
   "metadata": {},
   "outputs": [],
   "source": [
    "fldr = \"J:/Projects/Surveys/HHTravel/Survey2019/Data/PSRC_2019_HTS_RSG_Final_Deliverable/geocoded/parcels_july_2020/\""
   ]
  },
  {
   "cell_type": "code",
   "execution_count": 4,
   "metadata": {},
   "outputs": [],
   "source": [
    "household_df = pd.read_csv(fldr + \"1_household.csv\", usecols=[\"hhid\",\"prev_home_parcel\",\"final_home_parcel\"])"
   ]
  },
  {
   "cell_type": "code",
   "execution_count": 5,
   "metadata": {},
   "outputs": [],
   "source": [
    "person_df = pd.read_csv(fldr + \"2_person.csv\", usecols=[\"personid\",\"school_loc_parcel\", \"work_parcel\", \"prev_work_parcel\"])\n"
   ]
  },
  {
   "cell_type": "code",
   "execution_count": 6,
   "metadata": {},
   "outputs": [],
   "source": [
    "trip_df = pd.read_csv(fldr + \"5_trip.csv\", usecols=[\"personid\", \"tripnum\",\"opcl\", \"dpcl\"])"
   ]
  },
  {
   "cell_type": "code",
   "execution_count": 5,
   "metadata": {},
   "outputs": [],
   "source": [
    "conn_string = \"DRIVER={ODBC Driver 17 for SQL Server}; SERVER=AWS-PROD-SQL\\Coho; DATABASE=Elmer; trusted_connection=yes\"\n",
    "sql_conn = pyodbc.connect(conn_string)\n",
    "params = urllib.parse.quote_plus(conn_string)\n",
    "engine = sqlalchemy.create_engine(\"mssql+pyodbc:///?odbc_connect=%s\" % params)"
   ]
  },
  {
   "cell_type": "code",
   "execution_count": 8,
   "metadata": {},
   "outputs": [],
   "source": [
    "household_df.to_sql(name=\"hhs_households_parcels\", schema=\"stg\", con=engine, if_exists='replace')"
   ]
  },
  {
   "cell_type": "code",
   "execution_count": 13,
   "metadata": {},
   "outputs": [],
   "source": [
    "person_df.to_sql(name=\"hhs_persons_parcels\", schema=\"stg\", con=engine)"
   ]
  },
  {
   "cell_type": "code",
   "execution_count": 14,
   "metadata": {},
   "outputs": [],
   "source": [
    "trip_df.to_sql(name=\"hhs_trips_parcels\", schema=\"stg\", con=engine)"
   ]
  },
  {
   "cell_type": "code",
   "execution_count": 15,
   "metadata": {},
   "outputs": [],
   "source": [
    "sql_conn.close()"
   ]
  },
  {
   "cell_type": "code",
   "execution_count": null,
   "metadata": {},
   "outputs": [],
   "source": []
  }
 ],
 "metadata": {
  "kernelspec": {
   "display_name": "Python 3",
   "language": "python",
   "name": "python3"
  },
  "language_info": {
   "codemirror_mode": {
    "name": "ipython",
    "version": 3
   },
   "file_extension": ".py",
   "mimetype": "text/x-python",
   "name": "python",
   "nbconvert_exporter": "python",
   "pygments_lexer": "ipython3",
   "version": "3.7.3"
  }
 },
 "nbformat": 4,
 "nbformat_minor": 2
}
