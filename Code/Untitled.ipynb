{
 "cells": [
  {
   "cell_type": "code",
   "execution_count": 3,
   "id": "614614ba",
   "metadata": {},
   "outputs": [],
   "source": [
    "import pandas as pd\n",
    "import urllib\n",
    "import pyodbc\n",
    "import sqlalchemy\n",
    "from pathlib import Path"
   ]
  },
  {
   "cell_type": "code",
   "execution_count": 4,
   "id": "4fdb5c9d",
   "metadata": {},
   "outputs": [],
   "source": [
    "weight_path = Path('J:\\Projects\\Surveys\\HHTravel\\Survey2021\\Data\\Weights')"
   ]
  },
  {
   "cell_type": "code",
   "execution_count": 17,
   "id": "8b23c4ea",
   "metadata": {},
   "outputs": [],
   "source": [
    "conn_string = \"DRIVER={ODBC Driver 17 for SQL Server}; SERVER=AWS-PROD-SQL\\Sockeye; DATABASE=Elmer; trusted_connection=yes\"\n",
    "sql_conn = pyodbc.connect(conn_string)\n",
    "params = urllib.parse.quote_plus(conn_string)\n",
    "engine = sqlalchemy.create_engine(\"mssql+pyodbc:///?odbc_connect=%s\" % params)"
   ]
  },
  {
   "cell_type": "code",
   "execution_count": 12,
   "id": "08541e2b",
   "metadata": {},
   "outputs": [],
   "source": [
    "table_names = {'households_2021': '1_Household_Weighted.csv',\n",
    "              'persons_2021': '2_Person_Weighted.csv',\n",
    "              'trips_2021': '5_Trip_Weighted.csv',\n",
    "              'vehicles_2021': '3_Vehicle_Weighted.csv',\n",
    "              'days_2021': '4_Day_Weighted.csv'}"
   ]
  },
  {
   "cell_type": "code",
   "execution_count": 8,
   "id": "33c53424",
   "metadata": {},
   "outputs": [],
   "source": [
    "def import_weights(t_name, w_name):\n",
    "    weight_table_name = t_name + '_weights'\n",
    "    df = pd.read_csv(weight_path / w_name)\n",
    "    df.to_sql(name=weight_table_name, schema='HHSurvey', con=engine)"
   ]
  },
  {
   "cell_type": "code",
   "execution_count": 15,
   "id": "1d608bff",
   "metadata": {},
   "outputs": [],
   "source": [
    "for t in table_names.keys():\n",
    "    import_weights(t, table_names[t])"
   ]
  },
  {
   "cell_type": "code",
   "execution_count": 5,
   "id": "35dfeef4",
   "metadata": {},
   "outputs": [],
   "source": []
  },
  {
   "cell_type": "code",
   "execution_count": 18,
   "id": "e0a5a6df",
   "metadata": {},
   "outputs": [],
   "source": [
    "codebook_path = Path('J:\\Projects\\Surveys\\HHTravel\\Survey2021\\Data\\data_from_rsg_20210803')\n",
    "df = pd.read_excel(codebook_path / 'PSRC_2021_HTS_Combined_Codebook.xlsx', 'Variable_List')\n",
    "df.to_sql(name='codebook_variables_2021', schema='stg', con=engine)"
   ]
  },
  {
   "cell_type": "code",
   "execution_count": null,
   "id": "34fcdabd",
   "metadata": {},
   "outputs": [],
   "source": []
  }
 ],
 "metadata": {
  "kernelspec": {
   "display_name": "Python 3",
   "language": "python",
   "name": "python3"
  },
  "language_info": {
   "codemirror_mode": {
    "name": "ipython",
    "version": 3
   },
   "file_extension": ".py",
   "mimetype": "text/x-python",
   "name": "python",
   "nbconvert_exporter": "python",
   "pygments_lexer": "ipython3",
   "version": "3.7.11"
  }
 },
 "nbformat": 4,
 "nbformat_minor": 5
}
